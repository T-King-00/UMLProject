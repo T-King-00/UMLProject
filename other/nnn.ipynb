{
 "cells": [
  {
   "cell_type": "code",
   "execution_count": 5,
   "outputs": [],
   "source": [
    "\n",
    "from spacy.training.example import Example\n",
    "import spacy\n",
    "import json\n",
    "\n",
    "with open ( 'annotations3.json', encoding=\"utf8\" ) as fp:\n",
    "    trainingdData = json.load ( fp )\n",
    "\n",
    "#    print ( trainingdData )\n",
    "\n",
    "# prepare an empty model to train\n",
    "nlp = spacy.blank ( \"en\" )\n",
    "nlp.vocab.vectors.name = 'demo'\n",
    "\n",
    "nlp.add_pipe ( 'ner', last=True )\n",
    "\n",
    "# Add the custome NER Tags as entities into the model\n",
    "for label in trainingdData [ \"classes\" ]:\n",
    "    nlp.get_pipe ( 'ner' ).add_label ( label )\n",
    "\n",
    "# train model\n",
    "optimizer = nlp.begin_training ()\n",
    "# print ( trainingdData [ \"annotations\" ] )\n",
    "examples = [ ]\n",
    "for iter in range ( 5 ):\n",
    "    for text, annotations in trainingdData [ \"annotations\" ]:\n",
    "        if len ( text ) > 0:\n",
    "            doc = nlp.make_doc ( text )\n",
    "            # print ( doc )\n",
    "            examples.append ( Example.from_dict ( doc, annotations ) )\n",
    "            nlp.update ( examples, sgd=optimizer )\n"
   ],
   "metadata": {
    "collapsed": false
   }
  },
  {
   "cell_type": "code",
   "execution_count": 19,
   "outputs": [],
   "source": [
    "class Class_Att:\n",
    "    classEntity = None\n",
    "    classAttributes = [ ]"
   ],
   "metadata": {
    "collapsed": false
   }
  },
  {
   "cell_type": "code",
   "execution_count": 22,
   "outputs": [
    {
     "name": "stdout",
     "output_type": "stream",
     "text": [
      "########################\n",
      "{ myself label :  CLASS }\n",
      "########################\n",
      "{ store order label :  CLASS }\n",
      "########################\n",
      "########################\n",
      "{ book label :  CLASS }\n",
      "########################\n",
      "{ book label :  CLASS }\n",
      "{ recomendation label :  ATTRIBUTE }\n",
      "########################\n",
      "########################\n",
      "{ book label :  CLASS }\n",
      "{ suggestions label :  ATTRIBUTE }\n",
      "########################\n",
      "{ subscribers label :  CLASS }\n",
      "{ profiles label :  ATTRIBUTE }\n",
      "########################\n",
      "{ books label :  CLASS }\n",
      "{ library label :  CLASS }\n",
      "########################\n",
      "{ books label :  CLASS }\n",
      "########################\n"
     ]
    }
   ],
   "source": [
    "text = open ( \"LibraryManagementSystem.txt\", encoding='utf8' )\n",
    "lines = text.readlines ()\n",
    "classes_atts = [ ]\n",
    "for i, x in enumerate ( lines ):\n",
    "    doc = nlp ( x )\n",
    "    class_attInOner = [ ]\n",
    "    for ent in doc.ents:\n",
    "        print ( \"{\", ent.text, \"label : \", ent.label_, \"}\" )\n",
    "        if ent.label_ == \"CLASS\":\n",
    "            class_att = Class_Att\n",
    "            class_att.classEntity = ent.text\n",
    "        elif ent.label_ == \"ATTRIBUTE\":\n",
    "            class_att.classAttributes.append ( ent.text )\n",
    "    print ( \"########################\" )\n",
    "\n",
    "    if not [ entity.classEntity for entity in classes_atts ]:\n",
    "        classes_atts.append ( class_att )\n"
   ],
   "metadata": {
    "collapsed": false
   }
  },
  {
   "cell_type": "code",
   "execution_count": 21,
   "outputs": [
    {
     "name": "stdout",
     "output_type": "stream",
     "text": [
      "class entity: books\n",
      "   attributes: recomendation\n",
      "   attributes: suggestions\n",
      "   attributes: profiles\n"
     ]
    }
   ],
   "source": [
    "for classobj in classes_atts:\n",
    "    print ( \"class entity:\", classobj.classEntity )\n",
    "    for attribute in classobj.classAttributes:\n",
    "        print ( \"   attributes:\", attribute )"
   ],
   "metadata": {
    "collapsed": false
   }
  },
  {
   "cell_type": "code",
   "execution_count": 24,
   "outputs": [
    {
     "ename": "TypeError",
     "evalue": "'builtin_function_or_method' object is not iterable",
     "output_type": "error",
     "traceback": [
      "\u001B[1;31m---------------------------------------------------------------------------\u001B[0m",
      "\u001B[1;31mTypeError\u001B[0m                                 Traceback (most recent call last)",
      "\u001B[1;32m~\\AppData\\Local\\Temp\\ipykernel_16612\\2198799290.py\u001B[0m in \u001B[0;36m<module>\u001B[1;34m\u001B[0m\n\u001B[0;32m      3\u001B[0m \u001B[0msimilar_words\u001B[0m \u001B[1;33m=\u001B[0m \u001B[0mnlp\u001B[0m \u001B[1;33m(\u001B[0m \u001B[0mterm\u001B[0m \u001B[1;33m)\u001B[0m\u001B[1;33m.\u001B[0m\u001B[0msimilarity\u001B[0m\u001B[1;33m\u001B[0m\u001B[1;33m\u001B[0m\u001B[0m\n\u001B[0;32m      4\u001B[0m \u001B[1;33m\u001B[0m\u001B[0m\n\u001B[1;32m----> 5\u001B[1;33m \u001B[0msimilar_words\u001B[0m \u001B[1;33m=\u001B[0m \u001B[0msorted\u001B[0m \u001B[1;33m(\u001B[0m\u001B[0msimilar_words\u001B[0m\u001B[1;33m,\u001B[0m \u001B[0mkey\u001B[0m\u001B[1;33m=\u001B[0m\u001B[1;32mlambda\u001B[0m \u001B[0mx\u001B[0m\u001B[1;33m:\u001B[0m \u001B[1;33m-\u001B[0m\u001B[0mx\u001B[0m \u001B[1;33m[\u001B[0m \u001B[1;36m1\u001B[0m \u001B[1;33m]\u001B[0m \u001B[1;33m)\u001B[0m\u001B[1;33m\u001B[0m\u001B[1;33m\u001B[0m\u001B[0m\n\u001B[0m\u001B[0;32m      6\u001B[0m \u001B[1;33m\u001B[0m\u001B[0m\n\u001B[0;32m      7\u001B[0m \u001B[1;32mfor\u001B[0m \u001B[0mword\u001B[0m\u001B[1;33m,\u001B[0m \u001B[0mscore\u001B[0m \u001B[1;32min\u001B[0m \u001B[0msimilar_words\u001B[0m \u001B[1;33m[\u001B[0m \u001B[1;33m:\u001B[0m\u001B[1;36m10\u001B[0m \u001B[1;33m]\u001B[0m\u001B[1;33m:\u001B[0m\u001B[1;33m\u001B[0m\u001B[1;33m\u001B[0m\u001B[0m\n",
      "\u001B[1;31mTypeError\u001B[0m: 'builtin_function_or_method' object is not iterable"
     ]
    }
   ],
   "source": [
    "# Find the top 10 most similar words to the defined term\n",
    "term = \"happy\"\n",
    "similar_words = nlp ( term ).similarity\n",
    "\n",
    "similar_words = sorted ( similar_words, key=lambda x: -x [ 1 ] )\n",
    "\n",
    "for word, score in similar_words [ :10 ]:\n",
    "    print ( word.text, score )"
   ],
   "metadata": {
    "collapsed": false
   }
  },
  {
   "cell_type": "code",
   "execution_count": null,
   "outputs": [],
   "source": [],
   "metadata": {
    "collapsed": false,
    "pycharm": {
     "is_executing": true
    }
   }
  },
  {
   "cell_type": "code",
   "execution_count": null,
   "outputs": [],
   "source": [],
   "metadata": {
    "collapsed": false
   }
  }
 ],
 "metadata": {
  "kernelspec": {
   "display_name": "Python 3",
   "language": "python",
   "name": "python3"
  },
  "language_info": {
   "codemirror_mode": {
    "name": "ipython",
    "version": 2
   },
   "file_extension": ".py",
   "mimetype": "text/x-python",
   "name": "python",
   "nbconvert_exporter": "python",
   "pygments_lexer": "ipython2",
   "version": "2.7.6"
  }
 },
 "nbformat": 4,
 "nbformat_minor": 0
}
